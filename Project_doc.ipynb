{
 "cells": [
  {
   "cell_type": "markdown",
   "metadata": {},
   "source": [
    "Date: Nov 30, 11pm EST\n",
    "\n"
   ]
  },
  {
   "cell_type": "markdown",
   "metadata": {},
   "source": [
    "# List of possible Features/classifications:\n",
    "\n",
    "* State, CBSA, County, District\n",
    "* Public school, Private school\n",
    "* Year\n",
    "* Number of Schools by state/CBSA/County or District\n",
    "* Enrollment by grade, enrollment by gender, enrollment by Race/Ethnicity\n",
    "* Pupil/Teacher ratio, # of Teachers by grade\n",
    "* Total # of Instructional Aides, Instructional Coordinators, Guidance Counselors, Student Support Service Staff\n",
    "* Completers by Race/Ethnicity, Gender\n",
    "* Dropout rates by grade, gender, Race/Ethnicity\n",
    "* Revenue, Expenditures\n",
    "* Teacher gender, Teacher Ethnicity, Teacher Experience, Teacher Salary\n",
    "* District Rating, Campus Rating\n",
    "* Admission Testing"
   ]
  },
  {
   "cell_type": "markdown",
   "metadata": {},
   "source": [
    "#### TableGenerator for Years 1987-2014\n",
    "https://nces.ed.gov/ccd/elsi/default.aspx?agree=0\n",
    "\n",
    "Most of the features above can be obtain through the tablegenerator, except for the last 3 rows starting with teacher gender...\n",
    "\n",
    "Other useful data sources:\n",
    "\n",
    "\n",
    "#### Bureau of Labor Statistics - Teacher Mean Salary by county/State/District Year 2014\n",
    "http://www.bls.gov/oes/current/oes252031.htm\n",
    "\n",
    "\n",
    "#### Public Elementary & High School Enrollments by State, Grade and Year - From 1965 to 2004\n",
    "https://nces.ed.gov/surveys/annualreports/data/xls/ESE65.xls\n",
    ".\n",
    ".\n",
    ".\n",
    "https://nces.ed.gov/surveys/annualreports/data/xls/ESE03.xls\n",
    "\n",
    "\n",
    "#### Public High School Graduates by State for Years 1969-2004\n",
    "https://nces.ed.gov/surveys/annualreports/data/xls/hsg7005.xls \n",
    "\n",
    "#### Public Elementary & High School Teachers by State for Years 1965-2004\n",
    "https://nces.ed.gov/surveys/annualreports/data/xls/teach6904.xls\n",
    "\n"
   ]
  },
  {
   "cell_type": "code",
   "execution_count": null,
   "metadata": {
    "collapsed": true
   },
   "outputs": [],
   "source": []
  }
 ],
 "metadata": {
  "kernelspec": {
   "display_name": "Python 2",
   "language": "python",
   "name": "python2"
  },
  "language_info": {
   "codemirror_mode": {
    "name": "ipython",
    "version": 2
   },
   "file_extension": ".py",
   "mimetype": "text/x-python",
   "name": "python",
   "nbconvert_exporter": "python",
   "pygments_lexer": "ipython2",
   "version": "2.7.10"
  }
 },
 "nbformat": 4,
 "nbformat_minor": 0
}
